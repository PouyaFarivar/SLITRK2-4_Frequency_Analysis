{
 "cells": [
  {
   "cell_type": "code",
   "execution_count": 44,
   "id": "7ab3a8a2",
   "metadata": {
    "scrolled": true
   },
   "outputs": [],
   "source": [
    "import numpy as np\n",
    "import matplotlib.pyplot as plt\n",
    "import pandas as pd\n",
    "from scipy.signal import butter, filtfilt\n",
    "import pyedflib\n",
    "from scipy.signal import welch\n",
    "from scipy import stats\n",
    "from tqdm import tqdm"
   ]
  },
  {
   "cell_type": "code",
   "execution_count": 6,
   "id": "91cb7cc1",
   "metadata": {},
   "outputs": [],
   "source": [
    "# function for reading .edf data\n",
    "def edf_to_dataframe(edf_file_path):\n",
    "    # Reading the EDF file\n",
    "    f = pyedflib.EdfReader(edf_file_path)\n",
    "    \n",
    "    # Extracting signal labels\n",
    "    signal_labels = f.getSignalLabels()\n",
    "    \n",
    "    # Initializing a dictionary to store signals\n",
    "    signals_dict = {}\n",
    "    \n",
    "    # Extract each signal and store in the dictionary\n",
    "    for i, label in enumerate(signal_labels):\n",
    "        signals_dict[label] = f.readSignal(i)\n",
    "    \n",
    "    # Close the EDF file\n",
    "    f.close()\n",
    "    \n",
    "    # Convert dictionary to DataFrame\n",
    "    df = pd.DataFrame(signals_dict)\n",
    "    \n",
    "    return df"
   ]
  },
  {
   "cell_type": "code",
   "execution_count": 10,
   "id": "d7222569",
   "metadata": {},
   "outputs": [
    {
     "name": "stdout",
     "output_type": "stream",
     "text": [
      "Error reading the file: All_Spontaneous/2_con1.edf: the file is not EDF(+) or BDF(+) compliant (it contains format errors)\n"
     ]
    }
   ],
   "source": [
    "# reading all the data files\n",
    "import os\n",
    "\n",
    "names = []\n",
    "dfs = []\n",
    "labels = [] # 0 = control 1 = knockout\n",
    "\n",
    "folder_path = 'All_Spontaneous'\n",
    "files = os.listdir(folder_path)\n",
    "\n",
    "for file_name in files:\n",
    "    file_path = os.path.join(folder_path, file_name)\n",
    "    if os.path.isfile(file_path):  # Ensure it's a file\n",
    "        with open(file_path, 'r') as file:\n",
    "            if '.edf' in file_path:\n",
    "                try:\n",
    "                    dfs.append(edf_to_dataframe(file_path))\n",
    "                    names.append(file_name)                \n",
    "                    if 'KO' in file_name :\n",
    "                        labels.append(1)\n",
    "                    else:\n",
    "                        labels.append(0)\n",
    "                except Exception as e:\n",
    "                    print(f\"Error reading the file: {e}\")"
   ]
  },
  {
   "cell_type": "code",
   "execution_count": 36,
   "id": "1c9bf45e",
   "metadata": {
    "scrolled": true
   },
   "outputs": [],
   "source": [
    "# getting trials for all mice\n",
    "size = 36000\n",
    "trials = np.zeros((len(dfs), int(dfs[0].shape[0]/size), size))\n",
    "\n",
    "for i in range(trials.shape[0]):\n",
    "    df = dfs[i]\n",
    "    ts = df.values\n",
    "    ts = np.reshape(ts, (ts.shape[1],ts.shape[0]))\n",
    "    for j in range(int(df.shape[0]/size)):\n",
    "        s = j*size\n",
    "        trials[i,j,:] = ts[0,s:s+size]"
   ]
  },
  {
   "cell_type": "code",
   "execution_count": 37,
   "id": "b687ebd5",
   "metadata": {},
   "outputs": [
    {
     "name": "stdout",
     "output_type": "stream",
     "text": [
      "1_con3_spont.edf: 12960000\n",
      "1_KO2_spont.edf: 12960000\n",
      "1_con2_spont.edf: 12960000\n",
      "1_KO3_spont.edf: 12960000\n",
      "2_KO1.edf: 12966000\n",
      "2_KO3.edf: 12966000\n",
      "2_con4.edf: 12966000\n",
      "2_KO2.edf: 12966000\n",
      "1_con1_spont.edf: 13020000\n",
      "2_KO5.edf: 12960000\n",
      "2_con2.edf: 12966000\n",
      "2_con3.edf: 12966000\n",
      "2_KO4.edf: 12966000\n",
      "1_KO1_spont.edf: 13020000\n"
     ]
    }
   ],
   "source": [
    "# trials shorter than 24 hours\n",
    "no24 = []\n",
    "for i in range(len(names)):\n",
    "    if dfs[i].shape[0]!= 51840000:\n",
    "        no24.append(i)"
   ]
  },
  {
   "cell_type": "code",
   "execution_count": 38,
   "id": "277a066c",
   "metadata": {},
   "outputs": [],
   "source": [
    "# function for extracting frequency behavior from the data using a butterworth filter.\n",
    "def bandpass_filter(data, lowcut, highcut, fs=600, order=4):\n",
    "    nyquist = 0.5 * fs\n",
    "    low = lowcut / nyquist\n",
    "    high = highcut / nyquist\n",
    "    b, a = butter(order, [low, high], btype='band')\n",
    "    y = filtfilt(b, a, data)\n",
    "    return y"
   ]
  },
  {
   "cell_type": "code",
   "execution_count": 41,
   "id": "8a19a166",
   "metadata": {},
   "outputs": [],
   "source": [
    "# finding the mean frequency band power\n",
    "def get_band_mean(data, low, high, fs = 600):\n",
    "    # Band-pass filter\n",
    "    filtered_data = bandpass_filter(data, low, high)\n",
    "    \n",
    "    # Compute the power (square of the amplitude)\n",
    "    power = np.square(filtered_data)\n",
    "    \n",
    "    # Integrate the power over time using the trapezoidal rule\n",
    "    integrated_power = np.trapz(power, dx=1/fs)\n",
    "    \n",
    "    # Compute the mean integrated power\n",
    "    mean_integrated_power = integrated_power / len(data)\n",
    "    \n",
    "    return mean_integrated_power\n",
    "\n",
    "# finding the peak frequency\n",
    "def get_peak_frequency(data, low, high):\n",
    "    # getting the frequncy band from data\n",
    "    freqband = bandpass_filter(data, low, high)\n",
    "    \n",
    "    # finding the behavior of the frequnecy band\n",
    "    frequencies, psd = welch(freqband, fs=600, nperseg=2048)\n",
    "    \n",
    "    # getting the peak\n",
    "    peak = frequencies[np.argmax(psd)]\n",
    "    return peak"
   ]
  },
  {
   "cell_type": "code",
   "execution_count": 53,
   "id": "b1727f67",
   "metadata": {},
   "outputs": [
    {
     "name": "stderr",
     "output_type": "stream",
     "text": [
      "100%|███████████████████████████████████████████| 31/31 [01:58<00:00,  3.82s/it]\n"
     ]
    }
   ],
   "source": [
    "# getting all the features for all the trials and mice\n",
    "spont_trials = np.zeros((trials.shape[0],trials.shape[1],4)) # Theta mean - Gamma mean - Theta peak - Gamma peak\n",
    "\n",
    "for i in tqdm(range(trials.shape[0])):\n",
    "    if i in no24:\n",
    "        for j in range(360):\n",
    "            # Theta mean\n",
    "            spont_trials[i,j,0] = get_band_mean(trials[i,j,:], 4, 10)\n",
    "            # Gamma mean\n",
    "            spont_trials[i,j,1] = get_band_mean(trials[i,j,:], 20, 80)\n",
    "            # Theta peak\n",
    "            spont_trials[i,j,2] = get_peak_frequency(trials[i,j,:], 4, 10)\n",
    "            # Gamma peak\n",
    "            spont_trials[i,j,3] = get_peak_frequency(trials[i,j,:], 20, 80)\n",
    "        \n",
    "    else:\n",
    "        for j in range(trials.shape[1]):\n",
    "            # Theta mean\n",
    "            spont_trials[i,j,0] = get_band_mean(trials[i,j,:], 4, 10)\n",
    "            # Gamma mean\n",
    "            spont_trials[i,j,1] = get_band_mean(trials[i,j,:], 20, 80)\n",
    "            # Theta peak\n",
    "            spont_trials[i,j,2] = get_peak_frequency(trials[i,j,:], 4, 10)\n",
    "            # Gamma peak\n",
    "            spont_trials[i,j,3] = get_peak_frequency(trials[i,j,:], 20, 80)"
   ]
  },
  {
   "cell_type": "code",
   "execution_count": 79,
   "id": "8bdf28e2",
   "metadata": {},
   "outputs": [],
   "source": [
    "# averaging across all trials for each mice\n",
    "spont_results = np.zeros((trials.shape[0],8))\n",
    "\n",
    "for i in range(trials.shape[0]):\n",
    "    if i in no24:\n",
    "        spont_results[i,:4] = np.mean(spont_trials[i,:360,:], axis=0)\n",
    "        spont_results[i,4:] = np.std(spont_trials[i,:360,:], axis=0)\n",
    "    else:\n",
    "        spont_results[i,:4] = np.mean(spont_trials[i,:,:], axis=0)\n",
    "        spont_results[i,4:] = np.std(spont_trials[i,:,:], axis=0)\n",
    "\n"
   ]
  },
  {
   "cell_type": "code",
   "execution_count": 80,
   "id": "296dbc1b",
   "metadata": {},
   "outputs": [],
   "source": [
    "# making a csv file\n",
    "column_names = ['Theta Mean-mean', 'Gamma Mean-mean', 'Theta Peak-mean', 'Gamma Peak-mean', 'Theta Mean-std', 'Gamma Mean-std', 'Theta Peak-std', 'Gamma Peak-std']\n",
    "spont_df = pd.DataFrame(spont_results, columns=column_names, index=names)"
   ]
  },
  {
   "cell_type": "code",
   "execution_count": 82,
   "id": "ed27f871",
   "metadata": {},
   "outputs": [],
   "source": [
    "# seperating the Ko and control mice\n",
    "\n",
    "spont_KO = spont_df[np.array(labels) == 1]\n",
    "spont_con = spont_df[np.array(labels) == 0]"
   ]
  },
  {
   "cell_type": "code",
   "execution_count": 83,
   "id": "59513fee",
   "metadata": {},
   "outputs": [],
   "source": [
    "# saving to csv format\n",
    "\n",
    "spont_KO.to_csv('spont_KO.csv')\n",
    "spont_con.to_csv('spont_con.csv')"
   ]
  }
 ],
 "metadata": {
  "kernelspec": {
   "display_name": "Python 3 (ipykernel)",
   "language": "python",
   "name": "python3"
  },
  "language_info": {
   "codemirror_mode": {
    "name": "ipython",
    "version": 3
   },
   "file_extension": ".py",
   "mimetype": "text/x-python",
   "name": "python",
   "nbconvert_exporter": "python",
   "pygments_lexer": "ipython3",
   "version": "3.9.6"
  }
 },
 "nbformat": 4,
 "nbformat_minor": 5
}
